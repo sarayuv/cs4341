import pandas as pd
from tensorflow.keras import models, layers, utils, backend as K
import matplotlib.pyplot as plt
import shap
from sklearn.model_selection import train_test_split
from sklearn.metrics import accuracy_score, precision_score, recall_score
from sklearn.ensemble import RandomForestClassifier
from sklearn.neighbors import KNeighborsClassifier
from sklearn.svm import SVC
# load dataset
df = pd.read_csv("")
# drop the unneeded column
df = df.drop('Unnamed: 0', axis=1)
# collect the names of all columns with datatype 'object'
category_columns = list()
for column in df.columns:
    if df[column].dtype == 'object':
        category_columns.append(column)
# create a mapping to an integer index
mapping_functions = dict()
for column in category_columns:
    values = df[column].unique()
    mapping_function = dict()
    for value_idx, value in enumerate(values):
        mapping_function[value] = value_idx
    mapping_functions[column] = mapping_function
# transform columns in dataframe by replacing with the mapping dictionary
for column in category_columns:
    df[column] = df[column].map(mapping_functions[column])
df.head()
for column in category_columns:
    df[column] = df[column].astype('category')

# define features
X = df.drop('Performance', axis=1)
Y = df['Performance']

# create training and testing sets
X_train, X_test, Y_train, Y_test = train_test_split(X, Y, test_size=0.2, random_state=42)
## Function to Evaluate Each Model

def eval_model(model, X_test, Y_test):
    y_pred = model.predict(X_test)
    accuracy = accuracy_score(Y_test, y_pred)
    precision = precision_score(Y_test, y_pred, average='weighted', zero_division=1)
    recall = recall_score(Y_test, y_pred, average='weighted', zero_division=1)
    return accuracy, precision, recall
## Model 1: Random Forest

# initialize and train model
rf_model = RandomForestClassifier()
rf_model.fit(X_train, Y_train)

# evaluation metrics
rf_accuracy, rf_precision, rf_recall = eval_model(rf_model, X_test, Y_test)
print('Random Forest Accuracy: ', rf_accuracy)
print('Random Forest Precision: ', rf_precision)
print('Random Forest Recall: ', rf_recall)
## Model 2 - k-nearest Neighbors

# initialize and train model
knn_model = KNeighborsClassifier()
knn_model.fit(X_train, Y_train)

# evaluation metrics
knn_accuracy, knn_precision, knn_recall = eval_model(knn_model, X_test, Y_test)
print('kNN Accuracy: ', knn_accuracy)
print('kNN Precision: ', knn_precision)
print('kNN Recall: ', knn_recall)
## Model 3: SVM

# initialize and train model
svm_model = SVC(random_state=42)
svm_model.fit(X_train, Y_train)

# evaluation metrics
svm_accuracy, svm_precision, svm_recall = eval_model(svm_model, X_test, Y_test)
print('SVM Accuracy: ', svm_accuracy)
print('SVM Precision: ', svm_precision)
print('SVM Recall: ', svm_recall)
## Data Visualization and Plotting

# create a new dataframe with the results
results = pd.DataFrame({
    'Model': ['Random Forest', 'kNN', 'SVM'],
    'Accuracy': [rf_accuracy, knn_accuracy, svm_accuracy],
    'Recall': [rf_recall, knn_recall, svm_recall],
    'Precision': [rf_precision, knn_precision, svm_precision]
})

# create a plot
results.plot(x='Model', kind='bar')
plt.title('Performance between Random Forest, kNN, and SVM Models')
plt.ylabel('Score')
plt.ylim(0, 1.1)
plt.xticks(rotation=0)
plt.legend(loc='lower right')
plt.show()
